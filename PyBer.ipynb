{
 "cells": [
  {
   "cell_type": "code",
   "execution_count": 1,
   "id": "d78abfe1",
   "metadata": {},
   "outputs": [],
   "source": [
    "# Add Matplotlib inline magic command\n",
    "%matplotlib inline\n",
    "# Dependencies and Setup\n",
    "import matplotlib.pyplot as plt\n",
    "import pandas as pd"
   ]
  },
  {
   "cell_type": "code",
   "execution_count": 2,
   "id": "6bf8f549",
   "metadata": {},
   "outputs": [],
   "source": [
    "# Files to load\n",
    "city_data_to_load = \"Resources/city_data.csv\"\n",
    "ride_data_to_load = \"Resources/ride_data.csv\""
   ]
  },
  {
   "cell_type": "code",
   "execution_count": 3,
   "id": "94b3ff1b",
   "metadata": {},
   "outputs": [
    {
     "data": {
      "text/html": [
       "<div>\n",
       "<style scoped>\n",
       "    .dataframe tbody tr th:only-of-type {\n",
       "        vertical-align: middle;\n",
       "    }\n",
       "\n",
       "    .dataframe tbody tr th {\n",
       "        vertical-align: top;\n",
       "    }\n",
       "\n",
       "    .dataframe thead th {\n",
       "        text-align: right;\n",
       "    }\n",
       "</style>\n",
       "<table border=\"1\" class=\"dataframe\">\n",
       "  <thead>\n",
       "    <tr style=\"text-align: right;\">\n",
       "      <th></th>\n",
       "      <th>city</th>\n",
       "      <th>driver_count</th>\n",
       "      <th>type</th>\n",
       "    </tr>\n",
       "  </thead>\n",
       "  <tbody>\n",
       "    <tr>\n",
       "      <th>0</th>\n",
       "      <td>Richardfort</td>\n",
       "      <td>38</td>\n",
       "      <td>Urban</td>\n",
       "    </tr>\n",
       "    <tr>\n",
       "      <th>1</th>\n",
       "      <td>Williamsstad</td>\n",
       "      <td>59</td>\n",
       "      <td>Urban</td>\n",
       "    </tr>\n",
       "    <tr>\n",
       "      <th>2</th>\n",
       "      <td>Port Angela</td>\n",
       "      <td>67</td>\n",
       "      <td>Urban</td>\n",
       "    </tr>\n",
       "    <tr>\n",
       "      <th>3</th>\n",
       "      <td>Rodneyfort</td>\n",
       "      <td>34</td>\n",
       "      <td>Urban</td>\n",
       "    </tr>\n",
       "    <tr>\n",
       "      <th>4</th>\n",
       "      <td>West Robert</td>\n",
       "      <td>39</td>\n",
       "      <td>Urban</td>\n",
       "    </tr>\n",
       "    <tr>\n",
       "      <th>5</th>\n",
       "      <td>West Anthony</td>\n",
       "      <td>70</td>\n",
       "      <td>Urban</td>\n",
       "    </tr>\n",
       "    <tr>\n",
       "      <th>6</th>\n",
       "      <td>West Angela</td>\n",
       "      <td>48</td>\n",
       "      <td>Urban</td>\n",
       "    </tr>\n",
       "    <tr>\n",
       "      <th>7</th>\n",
       "      <td>Martinezhaven</td>\n",
       "      <td>25</td>\n",
       "      <td>Urban</td>\n",
       "    </tr>\n",
       "    <tr>\n",
       "      <th>8</th>\n",
       "      <td>Karenberg</td>\n",
       "      <td>22</td>\n",
       "      <td>Urban</td>\n",
       "    </tr>\n",
       "    <tr>\n",
       "      <th>9</th>\n",
       "      <td>Barajasview</td>\n",
       "      <td>26</td>\n",
       "      <td>Urban</td>\n",
       "    </tr>\n",
       "  </tbody>\n",
       "</table>\n",
       "</div>"
      ],
      "text/plain": [
       "            city  driver_count   type\n",
       "0    Richardfort            38  Urban\n",
       "1   Williamsstad            59  Urban\n",
       "2    Port Angela            67  Urban\n",
       "3     Rodneyfort            34  Urban\n",
       "4    West Robert            39  Urban\n",
       "5   West Anthony            70  Urban\n",
       "6    West Angela            48  Urban\n",
       "7  Martinezhaven            25  Urban\n",
       "8      Karenberg            22  Urban\n",
       "9    Barajasview            26  Urban"
      ]
     },
     "execution_count": 3,
     "metadata": {},
     "output_type": "execute_result"
    }
   ],
   "source": [
    "# Read the city data file and store it in a pandas DataFrame.\n",
    "city_data_df = pd.read_csv(city_data_to_load)\n",
    "city_data_df.head(10)"
   ]
  },
  {
   "cell_type": "code",
   "execution_count": 4,
   "id": "c553f29c",
   "metadata": {},
   "outputs": [
    {
     "data": {
      "text/html": [
       "<div>\n",
       "<style scoped>\n",
       "    .dataframe tbody tr th:only-of-type {\n",
       "        vertical-align: middle;\n",
       "    }\n",
       "\n",
       "    .dataframe tbody tr th {\n",
       "        vertical-align: top;\n",
       "    }\n",
       "\n",
       "    .dataframe thead th {\n",
       "        text-align: right;\n",
       "    }\n",
       "</style>\n",
       "<table border=\"1\" class=\"dataframe\">\n",
       "  <thead>\n",
       "    <tr style=\"text-align: right;\">\n",
       "      <th></th>\n",
       "      <th>city</th>\n",
       "      <th>date</th>\n",
       "      <th>fare</th>\n",
       "      <th>ride_id</th>\n",
       "    </tr>\n",
       "  </thead>\n",
       "  <tbody>\n",
       "    <tr>\n",
       "      <th>0</th>\n",
       "      <td>Lake Jonathanshire</td>\n",
       "      <td>2019-01-14 10:14:22</td>\n",
       "      <td>13.83</td>\n",
       "      <td>5739410935873</td>\n",
       "    </tr>\n",
       "    <tr>\n",
       "      <th>1</th>\n",
       "      <td>South Michelleport</td>\n",
       "      <td>2019-03-04 18:24:09</td>\n",
       "      <td>30.24</td>\n",
       "      <td>2343912425577</td>\n",
       "    </tr>\n",
       "    <tr>\n",
       "      <th>2</th>\n",
       "      <td>Port Samanthamouth</td>\n",
       "      <td>2019-02-24 04:29:00</td>\n",
       "      <td>33.44</td>\n",
       "      <td>2005065760003</td>\n",
       "    </tr>\n",
       "    <tr>\n",
       "      <th>3</th>\n",
       "      <td>Rodneyfort</td>\n",
       "      <td>2019-02-10 23:22:03</td>\n",
       "      <td>23.44</td>\n",
       "      <td>5149245426178</td>\n",
       "    </tr>\n",
       "    <tr>\n",
       "      <th>4</th>\n",
       "      <td>South Jack</td>\n",
       "      <td>2019-03-06 04:28:35</td>\n",
       "      <td>34.58</td>\n",
       "      <td>3908451377344</td>\n",
       "    </tr>\n",
       "    <tr>\n",
       "      <th>5</th>\n",
       "      <td>South Latoya</td>\n",
       "      <td>2019-03-11 12:26:48</td>\n",
       "      <td>9.52</td>\n",
       "      <td>1994999424437</td>\n",
       "    </tr>\n",
       "    <tr>\n",
       "      <th>6</th>\n",
       "      <td>New Paulville</td>\n",
       "      <td>2019-02-27 11:17:56</td>\n",
       "      <td>43.25</td>\n",
       "      <td>793208410091</td>\n",
       "    </tr>\n",
       "    <tr>\n",
       "      <th>7</th>\n",
       "      <td>Simpsonburgh</td>\n",
       "      <td>2019-04-26 00:43:24</td>\n",
       "      <td>35.98</td>\n",
       "      <td>111953927754</td>\n",
       "    </tr>\n",
       "    <tr>\n",
       "      <th>8</th>\n",
       "      <td>South Karenland</td>\n",
       "      <td>2019-01-08 03:28:48</td>\n",
       "      <td>35.09</td>\n",
       "      <td>7995623208694</td>\n",
       "    </tr>\n",
       "    <tr>\n",
       "      <th>9</th>\n",
       "      <td>North Jasmine</td>\n",
       "      <td>2019-03-09 06:26:29</td>\n",
       "      <td>42.81</td>\n",
       "      <td>5327642267789</td>\n",
       "    </tr>\n",
       "  </tbody>\n",
       "</table>\n",
       "</div>"
      ],
      "text/plain": [
       "                 city                 date   fare        ride_id\n",
       "0  Lake Jonathanshire  2019-01-14 10:14:22  13.83  5739410935873\n",
       "1  South Michelleport  2019-03-04 18:24:09  30.24  2343912425577\n",
       "2  Port Samanthamouth  2019-02-24 04:29:00  33.44  2005065760003\n",
       "3          Rodneyfort  2019-02-10 23:22:03  23.44  5149245426178\n",
       "4          South Jack  2019-03-06 04:28:35  34.58  3908451377344\n",
       "5        South Latoya  2019-03-11 12:26:48   9.52  1994999424437\n",
       "6       New Paulville  2019-02-27 11:17:56  43.25   793208410091\n",
       "7        Simpsonburgh  2019-04-26 00:43:24  35.98   111953927754\n",
       "8     South Karenland  2019-01-08 03:28:48  35.09  7995623208694\n",
       "9       North Jasmine  2019-03-09 06:26:29  42.81  5327642267789"
      ]
     },
     "execution_count": 4,
     "metadata": {},
     "output_type": "execute_result"
    }
   ],
   "source": [
    "# Read the ride data file and store it in a pandas DataFrame.\n",
    "ride_data_df = pd.read_csv(ride_data_to_load)\n",
    "ride_data_df.head(10)"
   ]
  },
  {
   "cell_type": "markdown",
   "id": "f25ba4c7",
   "metadata": {},
   "source": [
    "# Inspecting Data"
   ]
  },
  {
   "cell_type": "code",
   "execution_count": 5,
   "id": "aba70f3a",
   "metadata": {},
   "outputs": [
    {
     "name": "stdout",
     "output_type": "stream",
     "text": [
      "<class 'pandas.core.frame.DataFrame'>\n",
      "RangeIndex: 120 entries, 0 to 119\n",
      "Data columns (total 3 columns):\n",
      " #   Column        Non-Null Count  Dtype \n",
      "---  ------        --------------  ----- \n",
      " 0   city          120 non-null    object\n",
      " 1   driver_count  120 non-null    int64 \n",
      " 2   type          120 non-null    object\n",
      "dtypes: int64(1), object(2)\n",
      "memory usage: 2.9+ KB\n"
     ]
    }
   ],
   "source": [
    "city_data_df.info() #to me info does the same as getting dtypes/isnull().sum()\n",
    "\n",
    "# Get the columns and the rows that are not null.\n",
    "#city_data_df.isnull().sum()\n",
    "\n",
    "# Get the data types of each column.\n",
    "#city_data_df.dtypes"
   ]
  },
  {
   "cell_type": "code",
   "execution_count": 6,
   "id": "af0339c1",
   "metadata": {},
   "outputs": [
    {
     "data": {
      "text/plain": [
       "array(['Urban', 'Suburban', 'Rural'], dtype=object)"
      ]
     },
     "execution_count": 6,
     "metadata": {},
     "output_type": "execute_result"
    }
   ],
   "source": [
    "# Get the unique values of the type of city.\n",
    "city_data_df['type'].unique()"
   ]
  },
  {
   "cell_type": "code",
   "execution_count": 7,
   "id": "ddd8a3d3",
   "metadata": {},
   "outputs": [
    {
     "data": {
      "text/plain": [
       "18"
      ]
     },
     "execution_count": 7,
     "metadata": {},
     "output_type": "execute_result"
    }
   ],
   "source": [
    "# Get the number of data points from the Urban cities.\n",
    "sum(city_data_df[\"type\"]==\"Rural\")"
   ]
  },
  {
   "cell_type": "code",
   "execution_count": 8,
   "id": "a1fa1e23",
   "metadata": {},
   "outputs": [
    {
     "name": "stdout",
     "output_type": "stream",
     "text": [
      "<class 'pandas.core.frame.DataFrame'>\n",
      "RangeIndex: 2375 entries, 0 to 2374\n",
      "Data columns (total 4 columns):\n",
      " #   Column   Non-Null Count  Dtype  \n",
      "---  ------   --------------  -----  \n",
      " 0   city     2375 non-null   object \n",
      " 1   date     2375 non-null   object \n",
      " 2   fare     2375 non-null   float64\n",
      " 3   ride_id  2375 non-null   int64  \n",
      "dtypes: float64(1), int64(1), object(2)\n",
      "memory usage: 74.3+ KB\n"
     ]
    }
   ],
   "source": [
    "#get the columns and rows that are not null\n",
    "ride_data_df.info()\n",
    "\n",
    "#code provided:\n",
    "# Get the columns and the rows that are not null.\n",
    "#ride_data_df.count()\n",
    "\n",
    "# Get the columns and the rows that are not null.\n",
    "#ride_data_df.isnull().sum()\n",
    "\n",
    "# Get the data types of each column.\n",
    "#ride_data_df.dtypes"
   ]
  },
  {
   "cell_type": "code",
   "execution_count": 9,
   "id": "a57852dd",
   "metadata": {},
   "outputs": [
    {
     "data": {
      "text/html": [
       "<div>\n",
       "<style scoped>\n",
       "    .dataframe tbody tr th:only-of-type {\n",
       "        vertical-align: middle;\n",
       "    }\n",
       "\n",
       "    .dataframe tbody tr th {\n",
       "        vertical-align: top;\n",
       "    }\n",
       "\n",
       "    .dataframe thead th {\n",
       "        text-align: right;\n",
       "    }\n",
       "</style>\n",
       "<table border=\"1\" class=\"dataframe\">\n",
       "  <thead>\n",
       "    <tr style=\"text-align: right;\">\n",
       "      <th></th>\n",
       "      <th>city</th>\n",
       "      <th>date</th>\n",
       "      <th>fare</th>\n",
       "      <th>ride_id</th>\n",
       "      <th>driver_count</th>\n",
       "      <th>type</th>\n",
       "    </tr>\n",
       "  </thead>\n",
       "  <tbody>\n",
       "    <tr>\n",
       "      <th>0</th>\n",
       "      <td>Lake Jonathanshire</td>\n",
       "      <td>2019-01-14 10:14:22</td>\n",
       "      <td>13.83</td>\n",
       "      <td>5739410935873</td>\n",
       "      <td>5</td>\n",
       "      <td>Urban</td>\n",
       "    </tr>\n",
       "    <tr>\n",
       "      <th>1</th>\n",
       "      <td>South Michelleport</td>\n",
       "      <td>2019-03-04 18:24:09</td>\n",
       "      <td>30.24</td>\n",
       "      <td>2343912425577</td>\n",
       "      <td>72</td>\n",
       "      <td>Urban</td>\n",
       "    </tr>\n",
       "    <tr>\n",
       "      <th>2</th>\n",
       "      <td>Port Samanthamouth</td>\n",
       "      <td>2019-02-24 04:29:00</td>\n",
       "      <td>33.44</td>\n",
       "      <td>2005065760003</td>\n",
       "      <td>57</td>\n",
       "      <td>Urban</td>\n",
       "    </tr>\n",
       "    <tr>\n",
       "      <th>3</th>\n",
       "      <td>Rodneyfort</td>\n",
       "      <td>2019-02-10 23:22:03</td>\n",
       "      <td>23.44</td>\n",
       "      <td>5149245426178</td>\n",
       "      <td>34</td>\n",
       "      <td>Urban</td>\n",
       "    </tr>\n",
       "    <tr>\n",
       "      <th>4</th>\n",
       "      <td>South Jack</td>\n",
       "      <td>2019-03-06 04:28:35</td>\n",
       "      <td>34.58</td>\n",
       "      <td>3908451377344</td>\n",
       "      <td>46</td>\n",
       "      <td>Urban</td>\n",
       "    </tr>\n",
       "  </tbody>\n",
       "</table>\n",
       "</div>"
      ],
      "text/plain": [
       "                 city                 date   fare        ride_id  \\\n",
       "0  Lake Jonathanshire  2019-01-14 10:14:22  13.83  5739410935873   \n",
       "1  South Michelleport  2019-03-04 18:24:09  30.24  2343912425577   \n",
       "2  Port Samanthamouth  2019-02-24 04:29:00  33.44  2005065760003   \n",
       "3          Rodneyfort  2019-02-10 23:22:03  23.44  5149245426178   \n",
       "4          South Jack  2019-03-06 04:28:35  34.58  3908451377344   \n",
       "\n",
       "   driver_count   type  \n",
       "0             5  Urban  \n",
       "1            72  Urban  \n",
       "2            57  Urban  \n",
       "3            34  Urban  \n",
       "4            46  Urban  "
      ]
     },
     "execution_count": 9,
     "metadata": {},
     "output_type": "execute_result"
    }
   ],
   "source": [
    "#create new and merge DFs\n",
    "pyber_data_df = pd.merge(ride_data_df, city_data_df, how='left', on=[\"city\", \"city\"])\n",
    "pyber_data_df.head()"
   ]
  },
  {
   "cell_type": "markdown",
   "id": "3c8fe3d0",
   "metadata": {},
   "source": [
    "# Creating additional data & views"
   ]
  },
  {
   "cell_type": "code",
   "execution_count": 10,
   "id": "5510fcfa",
   "metadata": {},
   "outputs": [
    {
     "data": {
      "text/html": [
       "<div>\n",
       "<style scoped>\n",
       "    .dataframe tbody tr th:only-of-type {\n",
       "        vertical-align: middle;\n",
       "    }\n",
       "\n",
       "    .dataframe tbody tr th {\n",
       "        vertical-align: top;\n",
       "    }\n",
       "\n",
       "    .dataframe thead th {\n",
       "        text-align: right;\n",
       "    }\n",
       "</style>\n",
       "<table border=\"1\" class=\"dataframe\">\n",
       "  <thead>\n",
       "    <tr style=\"text-align: right;\">\n",
       "      <th></th>\n",
       "      <th>city</th>\n",
       "      <th>date</th>\n",
       "      <th>fare</th>\n",
       "      <th>ride_id</th>\n",
       "      <th>driver_count</th>\n",
       "      <th>type</th>\n",
       "    </tr>\n",
       "  </thead>\n",
       "  <tbody>\n",
       "    <tr>\n",
       "      <th>0</th>\n",
       "      <td>Lake Jonathanshire</td>\n",
       "      <td>2019-01-14 10:14:22</td>\n",
       "      <td>13.83</td>\n",
       "      <td>5739410935873</td>\n",
       "      <td>5</td>\n",
       "      <td>Urban</td>\n",
       "    </tr>\n",
       "    <tr>\n",
       "      <th>1</th>\n",
       "      <td>South Michelleport</td>\n",
       "      <td>2019-03-04 18:24:09</td>\n",
       "      <td>30.24</td>\n",
       "      <td>2343912425577</td>\n",
       "      <td>72</td>\n",
       "      <td>Urban</td>\n",
       "    </tr>\n",
       "    <tr>\n",
       "      <th>2</th>\n",
       "      <td>Port Samanthamouth</td>\n",
       "      <td>2019-02-24 04:29:00</td>\n",
       "      <td>33.44</td>\n",
       "      <td>2005065760003</td>\n",
       "      <td>57</td>\n",
       "      <td>Urban</td>\n",
       "    </tr>\n",
       "    <tr>\n",
       "      <th>3</th>\n",
       "      <td>Rodneyfort</td>\n",
       "      <td>2019-02-10 23:22:03</td>\n",
       "      <td>23.44</td>\n",
       "      <td>5149245426178</td>\n",
       "      <td>34</td>\n",
       "      <td>Urban</td>\n",
       "    </tr>\n",
       "    <tr>\n",
       "      <th>4</th>\n",
       "      <td>South Jack</td>\n",
       "      <td>2019-03-06 04:28:35</td>\n",
       "      <td>34.58</td>\n",
       "      <td>3908451377344</td>\n",
       "      <td>46</td>\n",
       "      <td>Urban</td>\n",
       "    </tr>\n",
       "  </tbody>\n",
       "</table>\n",
       "</div>"
      ],
      "text/plain": [
       "                 city                 date   fare        ride_id  \\\n",
       "0  Lake Jonathanshire  2019-01-14 10:14:22  13.83  5739410935873   \n",
       "1  South Michelleport  2019-03-04 18:24:09  30.24  2343912425577   \n",
       "2  Port Samanthamouth  2019-02-24 04:29:00  33.44  2005065760003   \n",
       "3          Rodneyfort  2019-02-10 23:22:03  23.44  5149245426178   \n",
       "4          South Jack  2019-03-06 04:28:35  34.58  3908451377344   \n",
       "\n",
       "   driver_count   type  \n",
       "0             5  Urban  \n",
       "1            72  Urban  \n",
       "2            57  Urban  \n",
       "3            34  Urban  \n",
       "4            46  Urban  "
      ]
     },
     "execution_count": 10,
     "metadata": {},
     "output_type": "execute_result"
    }
   ],
   "source": [
    "#create Urban city DF\n",
    "urban_cities_df = pyber_data_df[pyber_data_df[\"type\"] == \"Urban\"]\n",
    "urban_cities_df.head()"
   ]
  },
  {
   "cell_type": "code",
   "execution_count": 11,
   "id": "b7524c70",
   "metadata": {},
   "outputs": [
    {
     "data": {
      "text/html": [
       "<div>\n",
       "<style scoped>\n",
       "    .dataframe tbody tr th:only-of-type {\n",
       "        vertical-align: middle;\n",
       "    }\n",
       "\n",
       "    .dataframe tbody tr th {\n",
       "        vertical-align: top;\n",
       "    }\n",
       "\n",
       "    .dataframe thead th {\n",
       "        text-align: right;\n",
       "    }\n",
       "</style>\n",
       "<table border=\"1\" class=\"dataframe\">\n",
       "  <thead>\n",
       "    <tr style=\"text-align: right;\">\n",
       "      <th></th>\n",
       "      <th>city</th>\n",
       "      <th>date</th>\n",
       "      <th>fare</th>\n",
       "      <th>ride_id</th>\n",
       "      <th>driver_count</th>\n",
       "      <th>type</th>\n",
       "    </tr>\n",
       "  </thead>\n",
       "  <tbody>\n",
       "    <tr>\n",
       "      <th>1625</th>\n",
       "      <td>Barronchester</td>\n",
       "      <td>2019-01-27 03:08:01</td>\n",
       "      <td>27.79</td>\n",
       "      <td>6653622887913</td>\n",
       "      <td>11</td>\n",
       "      <td>Suburban</td>\n",
       "    </tr>\n",
       "    <tr>\n",
       "      <th>1626</th>\n",
       "      <td>East Kentstad</td>\n",
       "      <td>2019-04-07 19:44:19</td>\n",
       "      <td>18.75</td>\n",
       "      <td>6575961095852</td>\n",
       "      <td>20</td>\n",
       "      <td>Suburban</td>\n",
       "    </tr>\n",
       "    <tr>\n",
       "      <th>1627</th>\n",
       "      <td>Lake Omar</td>\n",
       "      <td>2019-01-17 21:33:35</td>\n",
       "      <td>21.71</td>\n",
       "      <td>966911700371</td>\n",
       "      <td>22</td>\n",
       "      <td>Suburban</td>\n",
       "    </tr>\n",
       "    <tr>\n",
       "      <th>1628</th>\n",
       "      <td>Myersshire</td>\n",
       "      <td>2019-02-27 17:38:39</td>\n",
       "      <td>17.10</td>\n",
       "      <td>5706770909868</td>\n",
       "      <td>19</td>\n",
       "      <td>Suburban</td>\n",
       "    </tr>\n",
       "    <tr>\n",
       "      <th>1629</th>\n",
       "      <td>West Hannah</td>\n",
       "      <td>2019-04-19 01:06:59</td>\n",
       "      <td>37.78</td>\n",
       "      <td>2273047151891</td>\n",
       "      <td>12</td>\n",
       "      <td>Suburban</td>\n",
       "    </tr>\n",
       "  </tbody>\n",
       "</table>\n",
       "</div>"
      ],
      "text/plain": [
       "               city                 date   fare        ride_id  driver_count  \\\n",
       "1625  Barronchester  2019-01-27 03:08:01  27.79  6653622887913            11   \n",
       "1626  East Kentstad  2019-04-07 19:44:19  18.75  6575961095852            20   \n",
       "1627      Lake Omar  2019-01-17 21:33:35  21.71   966911700371            22   \n",
       "1628     Myersshire  2019-02-27 17:38:39  17.10  5706770909868            19   \n",
       "1629    West Hannah  2019-04-19 01:06:59  37.78  2273047151891            12   \n",
       "\n",
       "          type  \n",
       "1625  Suburban  \n",
       "1626  Suburban  \n",
       "1627  Suburban  \n",
       "1628  Suburban  \n",
       "1629  Suburban  "
      ]
     },
     "execution_count": 11,
     "metadata": {},
     "output_type": "execute_result"
    }
   ],
   "source": [
    "#create suburban city DF\n",
    "suburban_cities_df = pyber_data_df[pyber_data_df[\"type\"] == \"Suburban\"]\n",
    "suburban_cities_df.head()"
   ]
  },
  {
   "cell_type": "code",
   "execution_count": 12,
   "id": "91dee621",
   "metadata": {},
   "outputs": [
    {
     "data": {
      "text/html": [
       "<div>\n",
       "<style scoped>\n",
       "    .dataframe tbody tr th:only-of-type {\n",
       "        vertical-align: middle;\n",
       "    }\n",
       "\n",
       "    .dataframe tbody tr th {\n",
       "        vertical-align: top;\n",
       "    }\n",
       "\n",
       "    .dataframe thead th {\n",
       "        text-align: right;\n",
       "    }\n",
       "</style>\n",
       "<table border=\"1\" class=\"dataframe\">\n",
       "  <thead>\n",
       "    <tr style=\"text-align: right;\">\n",
       "      <th></th>\n",
       "      <th>city</th>\n",
       "      <th>date</th>\n",
       "      <th>fare</th>\n",
       "      <th>ride_id</th>\n",
       "      <th>driver_count</th>\n",
       "      <th>type</th>\n",
       "    </tr>\n",
       "  </thead>\n",
       "  <tbody>\n",
       "    <tr>\n",
       "      <th>2250</th>\n",
       "      <td>Randallchester</td>\n",
       "      <td>2019-04-13 11:13:31</td>\n",
       "      <td>43.22</td>\n",
       "      <td>1076079536213</td>\n",
       "      <td>9</td>\n",
       "      <td>Rural</td>\n",
       "    </tr>\n",
       "    <tr>\n",
       "      <th>2251</th>\n",
       "      <td>North Holly</td>\n",
       "      <td>2019-02-02 14:54:00</td>\n",
       "      <td>12.42</td>\n",
       "      <td>1985256326182</td>\n",
       "      <td>8</td>\n",
       "      <td>Rural</td>\n",
       "    </tr>\n",
       "    <tr>\n",
       "      <th>2252</th>\n",
       "      <td>Michaelberg</td>\n",
       "      <td>2019-03-27 18:27:34</td>\n",
       "      <td>54.85</td>\n",
       "      <td>4421836952718</td>\n",
       "      <td>6</td>\n",
       "      <td>Rural</td>\n",
       "    </tr>\n",
       "    <tr>\n",
       "      <th>2253</th>\n",
       "      <td>Lake Latoyabury</td>\n",
       "      <td>2019-02-23 21:12:24</td>\n",
       "      <td>47.90</td>\n",
       "      <td>3269652929887</td>\n",
       "      <td>2</td>\n",
       "      <td>Rural</td>\n",
       "    </tr>\n",
       "    <tr>\n",
       "      <th>2254</th>\n",
       "      <td>Lake Latoyabury</td>\n",
       "      <td>2019-05-06 08:57:56</td>\n",
       "      <td>51.80</td>\n",
       "      <td>4018025271936</td>\n",
       "      <td>2</td>\n",
       "      <td>Rural</td>\n",
       "    </tr>\n",
       "  </tbody>\n",
       "</table>\n",
       "</div>"
      ],
      "text/plain": [
       "                 city                 date   fare        ride_id  \\\n",
       "2250   Randallchester  2019-04-13 11:13:31  43.22  1076079536213   \n",
       "2251      North Holly  2019-02-02 14:54:00  12.42  1985256326182   \n",
       "2252      Michaelberg  2019-03-27 18:27:34  54.85  4421836952718   \n",
       "2253  Lake Latoyabury  2019-02-23 21:12:24  47.90  3269652929887   \n",
       "2254  Lake Latoyabury  2019-05-06 08:57:56  51.80  4018025271936   \n",
       "\n",
       "      driver_count   type  \n",
       "2250             9  Rural  \n",
       "2251             8  Rural  \n",
       "2252             6  Rural  \n",
       "2253             2  Rural  \n",
       "2254             2  Rural  "
      ]
     },
     "execution_count": 12,
     "metadata": {},
     "output_type": "execute_result"
    }
   ],
   "source": [
    "#create rural city DF\n",
    "rural_cities_df = pyber_data_df[pyber_data_df[\"type\"] == \"Rural\"]\n",
    "rural_cities_df.head()"
   ]
  },
  {
   "cell_type": "code",
   "execution_count": 13,
   "id": "6568826f",
   "metadata": {},
   "outputs": [],
   "source": [
    "# Get the number of rides for urban cities.\n",
    "#create a series of data - stored in a data frame\n",
    "urban_ride_count = urban_cities_df.groupby([\"city\"]).count()[\"ride_id\"]\n",
    "suburban_ride_count = suburban_cities_df.groupby([\"city\"]).count()[\"ride_id\"]\n",
    "rural_ride_count = rural_cities_df.groupby([\"city\"]).count()[\"ride_id\"]\n",
    "\n",
    "#urban_ride_count.head()\n",
    "#suburban_ride_count.head()\n",
    "#rural_ride_count.head()"
   ]
  },
  {
   "cell_type": "code",
   "execution_count": 19,
   "id": "a311c0e2",
   "metadata": {},
   "outputs": [
    {
     "data": {
      "text/plain": [
       "city\n",
       "Amandaburgh        24.641667\n",
       "Barajasview        25.332273\n",
       "Carriemouth        28.314444\n",
       "Christopherfurt    24.501852\n",
       "Deanville          25.842632\n",
       "Name: fare, dtype: float64"
      ]
     },
     "execution_count": 19,
     "metadata": {},
     "output_type": "execute_result"
    }
   ],
   "source": [
    "#get city type average fares by city\n",
    "urban_avg_fare = urban_cities_df.groupby([\"city\"]).mean()[\"fare\"]\n",
    "suburban_avg_fare = suburban_cities_df.groupby([\"city\"]).mean()[\"fare\"]\n",
    "rural_avg_fare = rural_cities_df.groupby([\"city\"]).mean()[\"fare\"]\n",
    "\n",
    "urban_avg_fare.head()"
   ]
  },
  {
   "cell_type": "code",
   "execution_count": 20,
   "id": "f1de5295",
   "metadata": {},
   "outputs": [
    {
     "data": {
      "text/plain": [
       "city\n",
       "Amandaburgh        12.0\n",
       "Barajasview        26.0\n",
       "Carriemouth        52.0\n",
       "Christopherfurt    41.0\n",
       "Deanville          49.0\n",
       "Name: driver_count, dtype: float64"
      ]
     },
     "execution_count": 20,
     "metadata": {},
     "output_type": "execute_result"
    }
   ],
   "source": [
    "#get avg number of drivers for each city in each city type\n",
    "urban_driver_count = urban_cities_df.groupby([\"city\"]).mean()[\"driver_count\"]\n",
    "suburban_driver_count = suburban_cities_df.groupby([\"city\"]).mean()[\"driver_count\"]\n",
    "rural_driver_count = rural_cities_df.groupby([\"city\"]).mean()[\"driver_count\"]\n",
    "\n",
    "urban_driver_count.head()"
   ]
  },
  {
   "cell_type": "markdown",
   "id": "bdfdc713",
   "metadata": {},
   "source": [
    "# Create Bubble Chart"
   ]
  },
  {
   "cell_type": "code",
   "execution_count": 16,
   "id": "db705420",
   "metadata": {},
   "outputs": [
    {
     "data": {
      "image/png": "[encoded data removed]",
      "text/plain": [
       "<Figure size 432x288 with 1 Axes>"
      ]
     },
     "metadata": {
      "needs_background": "light"
     },
     "output_type": "display_data"
    }
   ],
   "source": [
    "#MATLAB method\n",
    "#build scatter plot for urban cities\n",
    "plt.scatter(urban_ride_count, urban_avg_fare, \n",
    "            label=\"Urban\", s=10*urban_driver_count,\n",
    "            color=\"coral\", edgecolor=\"black\", linewidths=1, alpha=0.8)\n",
    "\n",
    "#adding titles, labels\n",
    "plt.title(\"PyBer Ride-Sharing Data (2019)\")\n",
    "plt.xlabel(\"Average Fare($)\")\n",
    "plt.ylabel(\"Total Number of Rides (Per City)\")\n",
    "plt.grid(True)\n",
    "plt.legend()\n",
    "\n",
    "plt.show()"
   ]
  },
  {
   "cell_type": "code",
   "execution_count": 17,
   "id": "64562251",
   "metadata": {},
   "outputs": [
    {
     "data": {
      "image/png": "[encoded data removed]",
      "text/plain": [
       "<Figure size 432x288 with 1 Axes>"
      ]
     },
     "metadata": {
      "needs_background": "light"
     },
     "output_type": "display_data"
    }
   ],
   "source": [
    "#build scatter plot for suburban cities\n",
    "plt.scatter(suburban_ride_count, suburban_avg_fare, \n",
    "            label=\"Suburban\", s=10*suburban_driver_count,\n",
    "            color=\"skyblue\", edgecolor=\"black\", linewidths=1, alpha=0.8)\n",
    "\n",
    "#adding titles, labels\n",
    "plt.title(\"PyBer Ride-Sharing Data (2019)\")\n",
    "plt.xlabel(\"Average Fare($)\")\n",
    "plt.ylabel(\"Total Number of Rides (Per City)\")\n",
    "plt.grid(True)\n",
    "plt.legend()\n",
    "\n",
    "plt.show()"
   ]
  },
  {
   "cell_type": "code",
   "execution_count": 21,
   "id": "f5cf5020",
   "metadata": {},
   "outputs": [
    {
     "data": {
      "image/png": "[encoded data removed]",
      "text/plain": [
       "<Figure size 432x288 with 1 Axes>"
      ]
     },
     "metadata": {
      "needs_background": "light"
     },
     "output_type": "display_data"
    }
   ],
   "source": [
    "#build scatter plot for rural cities\n",
    "plt.scatter(rural_ride_count, rural_avg_fare, \n",
    "            label=\"Rural\", s=10*rural_driver_count,\n",
    "            color=\"gold\", edgecolor=\"black\", linewidths=1, alpha=0.8)\n",
    "\n",
    "#adding titles, labels\n",
    "plt.title(\"PyBer Ride-Sharing Data (2019)\")\n",
    "plt.xlabel(\"Average Fare($)\")\n",
    "plt.ylabel(\"Total Number of Rides (Per City)\")\n",
    "plt.grid(True)\n",
    "plt.legend()\n",
    "\n",
    "plt.show()"
   ]
  },
  {
   "cell_type": "code",
   "execution_count": 38,
   "id": "ebbd40f0",
   "metadata": {},
   "outputs": [
    {
     "data": {
      "image/png": "[encoded data removed]",
      "text/plain": [
       "<Figure size 720x432 with 1 Axes>"
      ]
     },
     "metadata": {
      "needs_background": "light"
     },
     "output_type": "display_data"
    }
   ],
   "source": [
    "#combining the scatter charts\n",
    "plt.subplots(figsize=(10, 6))\n",
    "\n",
    "#urban cities scatter\n",
    "plt.scatter(urban_ride_count, urban_avg_fare, \n",
    "            label=\"Urban\", s=10*urban_driver_count,\n",
    "            color=\"coral\", edgecolor=\"black\", linewidths=1, alpha=0.8)\n",
    "\n",
    "#suburban cities scatter\n",
    "plt.scatter(suburban_ride_count, suburban_avg_fare, \n",
    "            label=\"Suburban\", s=10*suburban_driver_count,\n",
    "            color=\"skyblue\", edgecolor=\"black\", linewidths=1, alpha=0.8)\n",
    "\n",
    "#rural cities scatter\n",
    "plt.scatter(rural_ride_count, rural_avg_fare, \n",
    "            label=\"Rural\", s=10*rural_driver_count,\n",
    "            color=\"gold\", edgecolor=\"black\", linewidths=1, alpha=0.8)\n",
    "\n",
    "#adding title, legend\n",
    "plt.title(\"PyBer Ride-Sharing Data (2019)\", fontsize=20)\n",
    "plt.xlabel(\"Average Fare($)\", fontsize=12)\n",
    "plt.ylabel(\"Total Number of Rides (Per City)\", fontsize=12)\n",
    "plt.grid(True)\n",
    "\n",
    "#creating legend\n",
    "lgnd = plt.legend(fontsize=\"12\", mode=\"Expanded\",\n",
    "                 scatterpoints=1, loc=\"best\", title=\"City Types\")\n",
    "#resizing legend markers\n",
    "lgnd.legendHandles[0]._sizes = [75]\n",
    "lgnd.legendHandles[1]._sizes = [75]\n",
    "lgnd.legendHandles[2]._sizes = [75]\n",
    "lgnd.get_title().set_fontsize(12)\n",
    "\n",
    "plt.text(42,35, \"Note: Circle size correlates\", fontsize=\"12\")\n",
    "plt.text(42,34, \"with driver count per city.\", fontsize=\"12\")\n",
    "#save the figure\n",
    "plt.tight_layout()\n",
    "plt.savefig(\"analysis/Fig1.png\")\n",
    "#plt.show()"
   ]
  },
  {
   "cell_type": "markdown",
   "id": "8de3c6ec",
   "metadata": {},
   "source": [
    "# Summary Stats"
   ]
  },
  {
   "cell_type": "markdown",
   "id": "de680cdc",
   "metadata": {},
   "source": [
    "## Using Pandas"
   ]
  },
  {
   "cell_type": "code",
   "execution_count": 39,
   "id": "a41863e2",
   "metadata": {},
   "outputs": [
    {
     "data": {
      "text/html": [
       "<div>\n",
       "<style scoped>\n",
       "    .dataframe tbody tr th:only-of-type {\n",
       "        vertical-align: middle;\n",
       "    }\n",
       "\n",
       "    .dataframe tbody tr th {\n",
       "        vertical-align: top;\n",
       "    }\n",
       "\n",
       "    .dataframe thead th {\n",
       "        text-align: right;\n",
       "    }\n",
       "</style>\n",
       "<table border=\"1\" class=\"dataframe\">\n",
       "  <thead>\n",
       "    <tr style=\"text-align: right;\">\n",
       "      <th></th>\n",
       "      <th>fare</th>\n",
       "      <th>ride_id</th>\n",
       "      <th>driver_count</th>\n",
       "    </tr>\n",
       "  </thead>\n",
       "  <tbody>\n",
       "    <tr>\n",
       "      <th>count</th>\n",
       "      <td>1625.000000</td>\n",
       "      <td>1.625000e+03</td>\n",
       "      <td>1625.000000</td>\n",
       "    </tr>\n",
       "    <tr>\n",
       "      <th>mean</th>\n",
       "      <td>24.525772</td>\n",
       "      <td>4.873485e+12</td>\n",
       "      <td>36.678154</td>\n",
       "    </tr>\n",
       "    <tr>\n",
       "      <th>std</th>\n",
       "      <td>11.738649</td>\n",
       "      <td>2.907440e+12</td>\n",
       "      <td>20.075545</td>\n",
       "    </tr>\n",
       "    <tr>\n",
       "      <th>min</th>\n",
       "      <td>4.050000</td>\n",
       "      <td>1.458810e+10</td>\n",
       "      <td>3.000000</td>\n",
       "    </tr>\n",
       "    <tr>\n",
       "      <th>25%</th>\n",
       "      <td>14.550000</td>\n",
       "      <td>2.400244e+12</td>\n",
       "      <td>22.000000</td>\n",
       "    </tr>\n",
       "    <tr>\n",
       "      <th>50%</th>\n",
       "      <td>24.640000</td>\n",
       "      <td>4.711188e+12</td>\n",
       "      <td>37.000000</td>\n",
       "    </tr>\n",
       "    <tr>\n",
       "      <th>75%</th>\n",
       "      <td>34.580000</td>\n",
       "      <td>7.451579e+12</td>\n",
       "      <td>52.000000</td>\n",
       "    </tr>\n",
       "    <tr>\n",
       "      <th>max</th>\n",
       "      <td>44.970000</td>\n",
       "      <td>9.991538e+12</td>\n",
       "      <td>73.000000</td>\n",
       "    </tr>\n",
       "  </tbody>\n",
       "</table>\n",
       "</div>"
      ],
      "text/plain": [
       "              fare       ride_id  driver_count\n",
       "count  1625.000000  1.625000e+03   1625.000000\n",
       "mean     24.525772  4.873485e+12     36.678154\n",
       "std      11.738649  2.907440e+12     20.075545\n",
       "min       4.050000  1.458810e+10      3.000000\n",
       "25%      14.550000  2.400244e+12     22.000000\n",
       "50%      24.640000  4.711188e+12     37.000000\n",
       "75%      34.580000  7.451579e+12     52.000000\n",
       "max      44.970000  9.991538e+12     73.000000"
      ]
     },
     "execution_count": 39,
     "metadata": {},
     "output_type": "execute_result"
    }
   ],
   "source": [
    "#get summary statistics\n",
    "urban_cities_df.describe()"
   ]
  },
  {
   "cell_type": "code",
   "execution_count": 40,
   "id": "0d974af9",
   "metadata": {},
   "outputs": [
    {
     "data": {
      "text/html": [
       "<div>\n",
       "<style scoped>\n",
       "    .dataframe tbody tr th:only-of-type {\n",
       "        vertical-align: middle;\n",
       "    }\n",
       "\n",
       "    .dataframe tbody tr th {\n",
       "        vertical-align: top;\n",
       "    }\n",
       "\n",
       "    .dataframe thead th {\n",
       "        text-align: right;\n",
       "    }\n",
       "</style>\n",
       "<table border=\"1\" class=\"dataframe\">\n",
       "  <thead>\n",
       "    <tr style=\"text-align: right;\">\n",
       "      <th></th>\n",
       "      <th>fare</th>\n",
       "      <th>ride_id</th>\n",
       "      <th>driver_count</th>\n",
       "    </tr>\n",
       "  </thead>\n",
       "  <tbody>\n",
       "    <tr>\n",
       "      <th>count</th>\n",
       "      <td>625.000000</td>\n",
       "      <td>6.250000e+02</td>\n",
       "      <td>625.000000</td>\n",
       "    </tr>\n",
       "    <tr>\n",
       "      <th>mean</th>\n",
       "      <td>30.970128</td>\n",
       "      <td>4.971015e+12</td>\n",
       "      <td>13.712000</td>\n",
       "    </tr>\n",
       "    <tr>\n",
       "      <th>std</th>\n",
       "      <td>10.677508</td>\n",
       "      <td>2.912410e+12</td>\n",
       "      <td>8.042372</td>\n",
       "    </tr>\n",
       "    <tr>\n",
       "      <th>min</th>\n",
       "      <td>12.050000</td>\n",
       "      <td>3.218337e+08</td>\n",
       "      <td>1.000000</td>\n",
       "    </tr>\n",
       "    <tr>\n",
       "      <th>25%</th>\n",
       "      <td>21.970000</td>\n",
       "      <td>2.364253e+12</td>\n",
       "      <td>5.000000</td>\n",
       "    </tr>\n",
       "    <tr>\n",
       "      <th>50%</th>\n",
       "      <td>30.750000</td>\n",
       "      <td>5.053221e+12</td>\n",
       "      <td>16.000000</td>\n",
       "    </tr>\n",
       "    <tr>\n",
       "      <th>75%</th>\n",
       "      <td>39.830000</td>\n",
       "      <td>7.551674e+12</td>\n",
       "      <td>21.000000</td>\n",
       "    </tr>\n",
       "    <tr>\n",
       "      <th>max</th>\n",
       "      <td>49.960000</td>\n",
       "      <td>9.917744e+12</td>\n",
       "      <td>25.000000</td>\n",
       "    </tr>\n",
       "  </tbody>\n",
       "</table>\n",
       "</div>"
      ],
      "text/plain": [
       "             fare       ride_id  driver_count\n",
       "count  625.000000  6.250000e+02    625.000000\n",
       "mean    30.970128  4.971015e+12     13.712000\n",
       "std     10.677508  2.912410e+12      8.042372\n",
       "min     12.050000  3.218337e+08      1.000000\n",
       "25%     21.970000  2.364253e+12      5.000000\n",
       "50%     30.750000  5.053221e+12     16.000000\n",
       "75%     39.830000  7.551674e+12     21.000000\n",
       "max     49.960000  9.917744e+12     25.000000"
      ]
     },
     "execution_count": 40,
     "metadata": {},
     "output_type": "execute_result"
    }
   ],
   "source": [
    "suburban_cities_df.describe()"
   ]
  },
  {
   "cell_type": "code",
   "execution_count": 41,
   "id": "2482ad54",
   "metadata": {},
   "outputs": [
    {
     "data": {
      "text/html": [
       "<div>\n",
       "<style scoped>\n",
       "    .dataframe tbody tr th:only-of-type {\n",
       "        vertical-align: middle;\n",
       "    }\n",
       "\n",
       "    .dataframe tbody tr th {\n",
       "        vertical-align: top;\n",
       "    }\n",
       "\n",
       "    .dataframe thead th {\n",
       "        text-align: right;\n",
       "    }\n",
       "</style>\n",
       "<table border=\"1\" class=\"dataframe\">\n",
       "  <thead>\n",
       "    <tr style=\"text-align: right;\">\n",
       "      <th></th>\n",
       "      <th>fare</th>\n",
       "      <th>ride_id</th>\n",
       "      <th>driver_count</th>\n",
       "    </tr>\n",
       "  </thead>\n",
       "  <tbody>\n",
       "    <tr>\n",
       "      <th>count</th>\n",
       "      <td>125.000000</td>\n",
       "      <td>1.250000e+02</td>\n",
       "      <td>125.000000</td>\n",
       "    </tr>\n",
       "    <tr>\n",
       "      <th>mean</th>\n",
       "      <td>34.623440</td>\n",
       "      <td>4.647746e+12</td>\n",
       "      <td>4.296000</td>\n",
       "    </tr>\n",
       "    <tr>\n",
       "      <th>std</th>\n",
       "      <td>14.558046</td>\n",
       "      <td>2.887834e+12</td>\n",
       "      <td>2.691156</td>\n",
       "    </tr>\n",
       "    <tr>\n",
       "      <th>min</th>\n",
       "      <td>10.110000</td>\n",
       "      <td>2.684873e+10</td>\n",
       "      <td>1.000000</td>\n",
       "    </tr>\n",
       "    <tr>\n",
       "      <th>25%</th>\n",
       "      <td>19.900000</td>\n",
       "      <td>2.275364e+12</td>\n",
       "      <td>1.000000</td>\n",
       "    </tr>\n",
       "    <tr>\n",
       "      <th>50%</th>\n",
       "      <td>37.050000</td>\n",
       "      <td>4.023962e+12</td>\n",
       "      <td>4.000000</td>\n",
       "    </tr>\n",
       "    <tr>\n",
       "      <th>75%</th>\n",
       "      <td>47.070000</td>\n",
       "      <td>7.118047e+12</td>\n",
       "      <td>7.000000</td>\n",
       "    </tr>\n",
       "    <tr>\n",
       "      <th>max</th>\n",
       "      <td>58.550000</td>\n",
       "      <td>9.990581e+12</td>\n",
       "      <td>9.000000</td>\n",
       "    </tr>\n",
       "  </tbody>\n",
       "</table>\n",
       "</div>"
      ],
      "text/plain": [
       "             fare       ride_id  driver_count\n",
       "count  125.000000  1.250000e+02    125.000000\n",
       "mean    34.623440  4.647746e+12      4.296000\n",
       "std     14.558046  2.887834e+12      2.691156\n",
       "min     10.110000  2.684873e+10      1.000000\n",
       "25%     19.900000  2.275364e+12      1.000000\n",
       "50%     37.050000  4.023962e+12      4.000000\n",
       "75%     47.070000  7.118047e+12      7.000000\n",
       "max     58.550000  9.990581e+12      9.000000"
      ]
     },
     "execution_count": 41,
     "metadata": {},
     "output_type": "execute_result"
    }
   ],
   "source": [
    "rural_cities_df.describe()"
   ]
  },
  {
   "cell_type": "code",
   "execution_count": 42,
   "id": "c729a8b3",
   "metadata": {},
   "outputs": [
    {
     "data": {
      "text/plain": [
       "count    66.000000\n",
       "mean     24.621212\n",
       "std       5.408726\n",
       "min      12.000000\n",
       "25%      21.000000\n",
       "50%      24.000000\n",
       "75%      28.000000\n",
       "max      39.000000\n",
       "Name: ride_id, dtype: float64"
      ]
     },
     "execution_count": 42,
     "metadata": {},
     "output_type": "execute_result"
    }
   ],
   "source": [
    "urban_ride_count.describe()"
   ]
  },
  {
   "cell_type": "code",
   "execution_count": 43,
   "id": "bde3432a",
   "metadata": {},
   "outputs": [
    {
     "data": {
      "text/plain": [
       "count    36.000000\n",
       "mean     17.361111\n",
       "std       4.323707\n",
       "min       9.000000\n",
       "25%      14.000000\n",
       "50%      17.000000\n",
       "75%      19.250000\n",
       "max      27.000000\n",
       "Name: ride_id, dtype: float64"
      ]
     },
     "execution_count": 43,
     "metadata": {},
     "output_type": "execute_result"
    }
   ],
   "source": [
    "suburban_ride_count.describe()"
   ]
  },
  {
   "cell_type": "code",
   "execution_count": 44,
   "id": "1ba3513f",
   "metadata": {},
   "outputs": [
    {
     "data": {
      "text/plain": [
       "count    18.000000\n",
       "mean      6.944444\n",
       "std       2.508157\n",
       "min       3.000000\n",
       "25%       5.250000\n",
       "50%       6.000000\n",
       "75%       8.750000\n",
       "max      12.000000\n",
       "Name: ride_id, dtype: float64"
      ]
     },
     "execution_count": 44,
     "metadata": {},
     "output_type": "execute_result"
    }
   ],
   "source": [
    "rural_ride_count.describe()"
   ]
  },
  {
   "cell_type": "code",
   "execution_count": 45,
   "id": "1e5e5006",
   "metadata": {},
   "outputs": [
    {
     "data": {
      "text/plain": [
       "(24.62, 17.36, 6.94)"
      ]
     },
     "execution_count": 45,
     "metadata": {},
     "output_type": "execute_result"
    }
   ],
   "source": [
    "#calculate the mean of the ride count for each city type\n",
    "round(urban_ride_count.mean(),2), round(suburban_ride_count.mean(),2), round(rural_ride_count.mean(),2)"
   ]
  },
  {
   "cell_type": "code",
   "execution_count": 46,
   "id": "43138658",
   "metadata": {},
   "outputs": [
    {
     "data": {
      "text/plain": [
       "(24.0, 17.0, 6.0)"
      ]
     },
     "execution_count": 46,
     "metadata": {},
     "output_type": "execute_result"
    }
   ],
   "source": [
    "#calculate the median of the ride count for each city type\n",
    "round(urban_ride_count.median(),2), round(suburban_ride_count.median(),2), round(rural_ride_count.median(),2)"
   ]
  },
  {
   "cell_type": "code",
   "execution_count": 47,
   "id": "f25fa1f2",
   "metadata": {},
   "outputs": [
    {
     "data": {
      "text/plain": [
       "(0    22\n",
       " 1    25\n",
       " dtype: int64,\n",
       " 0    17\n",
       " dtype: int64,\n",
       " 0    6\n",
       " dtype: int64)"
      ]
     },
     "execution_count": 47,
     "metadata": {},
     "output_type": "execute_result"
    }
   ],
   "source": [
    "#calculate the mode of the ride count for each city type\n",
    "round(urban_ride_count.mode(),2), round(suburban_ride_count.mode(),2), round(rural_ride_count.mode(),2)"
   ]
  },
  {
   "cell_type": "markdown",
   "id": "f0510133",
   "metadata": {},
   "source": [
    "## Using NumPy and Stats"
   ]
  },
  {
   "cell_type": "code",
   "execution_count": 49,
   "id": "01bc369b",
   "metadata": {},
   "outputs": [],
   "source": [
    "# Import NumPy and the stats module from SciPy.\n",
    "import numpy as np\n",
    "import scipy.stats as sts"
   ]
  },
  {
   "cell_type": "code",
   "execution_count": 50,
   "id": "26d642d8",
   "metadata": {},
   "outputs": [
    {
     "name": "stdout",
     "output_type": "stream",
     "text": [
      "The mean for the ride counts for urban trips is 24.62.\n",
      "The median for the ride counts for urban trips is 24.0.\n",
      "The mode for the ride counts for urban trips is ModeResult(mode=array([22], dtype=int64), count=array([7])).\n"
     ]
    }
   ],
   "source": [
    "# Calculate the measures of central tendency for the ride count for the urban cities.\n",
    "mean_urban_ride_count = np.mean(urban_ride_count)\n",
    "print(f\"The mean for the ride counts for urban trips is {mean_urban_ride_count:.2f}.\")\n",
    "\n",
    "median_urban_ride_count = np.median(urban_ride_count)\n",
    "print(f\"The median for the ride counts for urban trips is {median_urban_ride_count}.\")\n",
    "\n",
    "mode_urban_ride_count = sts.mode(urban_ride_count)\n",
    "print(f\"The mode for the ride counts for urban trips is {mode_urban_ride_count}.\")"
   ]
  },
  {
   "cell_type": "code",
   "execution_count": 51,
   "id": "bfa720be",
   "metadata": {},
   "outputs": [
    {
     "name": "stdout",
     "output_type": "stream",
     "text": [
      "The mean for the ride counts for suburban trips is 17.36.\n",
      "The median for the ride counts for suburban trips is 17.0.\n",
      "The mode for the ride counts for suburban trips is ModeResult(mode=array([17], dtype=int64), count=array([7])).\n"
     ]
    }
   ],
   "source": [
    "# Calculate the measures of central tendency for the ride count for the suburban cities.\n",
    "mean_suburban_ride_count = np.mean(suburban_ride_count)\n",
    "print(f\"The mean for the ride counts for suburban trips is {mean_suburban_ride_count:.2f}.\")\n",
    "\n",
    "median_suburban_ride_count = np.median(suburban_ride_count)\n",
    "print(f\"The median for the ride counts for suburban trips is {median_suburban_ride_count}.\")\n",
    "\n",
    "mode_suburban_ride_count = sts.mode(suburban_ride_count)\n",
    "print(f\"The mode for the ride counts for suburban trips is {mode_suburban_ride_count}.\")"
   ]
  },
  {
   "cell_type": "code",
   "execution_count": 52,
   "id": "57caf53b",
   "metadata": {},
   "outputs": [
    {
     "name": "stdout",
     "output_type": "stream",
     "text": [
      "The mean for the ride counts for rural trips is 6.94.\n",
      "The median for the ride counts for rural trips is 6.0.\n",
      "The mode for the ride counts for rural trips is ModeResult(mode=array([6], dtype=int64), count=array([5])).\n"
     ]
    }
   ],
   "source": [
    "# Calculate the measures of central tendency for the ride count for the suburban cities.\n",
    "mean_rural_ride_count = np.mean(rural_ride_count)\n",
    "print(f\"The mean for the ride counts for rural trips is {mean_rural_ride_count:.2f}.\")\n",
    "\n",
    "median_rural_ride_count = np.median(rural_ride_count)\n",
    "print(f\"The median for the ride counts for rural trips is {median_rural_ride_count}.\")\n",
    "\n",
    "mode_rural_ride_count = sts.mode(rural_ride_count)\n",
    "print(f\"The mode for the ride counts for rural trips is {mode_rural_ride_count}.\")"
   ]
  },
  {
   "cell_type": "markdown",
   "id": "487a903b",
   "metadata": {},
   "source": [
    "## Summary Fare by City Type"
   ]
  },
  {
   "cell_type": "code",
   "execution_count": 53,
   "id": "e7bbc040",
   "metadata": {},
   "outputs": [
    {
     "data": {
      "text/plain": [
       "0    13.83\n",
       "1    30.24\n",
       "2    33.44\n",
       "3    23.44\n",
       "4    34.58\n",
       "Name: fare, dtype: float64"
      ]
     },
     "execution_count": 53,
     "metadata": {},
     "output_type": "execute_result"
    }
   ],
   "source": [
    "#get fare for urban cities\n",
    "urban_fares = urban_cities_df[\"fare\"]\n",
    "urban_fares.head()"
   ]
  },
  {
   "cell_type": "code",
   "execution_count": 55,
   "id": "61f99439",
   "metadata": {},
   "outputs": [
    {
     "name": "stdout",
     "output_type": "stream",
     "text": [
      "The mean fare prices for urban trips is $24.53.\n",
      "The median fare price for urban trips is $24.64.\n",
      "The mode fare price for urban trips is ModeResult(mode=array([22.86]), count=array([5])).\n"
     ]
    }
   ],
   "source": [
    "#calcuate the measures of central tendancy for the avg fare for the urban cities\n",
    "mean_urban_fares = np.mean(urban_fares)\n",
    "print(f\"The mean fare prices for urban trips is ${mean_urban_fares:.2f}.\")\n",
    "\n",
    "median_urban_fares = np.median(urban_fares)\n",
    "print(f\"The median fare price for urban trips is ${median_urban_fares:.2f}.\")\n",
    "\n",
    "mode_urban_fares = sts.mode(urban_fares)\n",
    "print(f\"The mode fare price for urban trips is {mode_urban_fares}.\")"
   ]
  },
  {
   "cell_type": "code",
   "execution_count": 57,
   "id": "2ff9c522",
   "metadata": {},
   "outputs": [
    {
     "name": "stdout",
     "output_type": "stream",
     "text": [
      "The mean fare prices for suburban trips is $30.97.\n",
      "The median fare price for suburban trips is $30.75.\n",
      "The mode fare price for suburban trips is ModeResult(mode=array([17.99]), count=array([3])).\n"
     ]
    }
   ],
   "source": [
    "#get fare for suburban cities\n",
    "suburban_fares = suburban_cities_df[\"fare\"]\n",
    "\n",
    "#calcuate the measures of central tendancy for the avg fare for the suburban cities\n",
    "mean_suburban_fares = np.mean(suburban_fares)\n",
    "print(f\"The mean fare prices for suburban trips is ${mean_suburban_fares:.2f}.\")\n",
    "\n",
    "median_suburban_fares = np.median(suburban_fares)\n",
    "print(f\"The median fare price for suburban trips is ${median_suburban_fares:.2f}.\")\n",
    "\n",
    "mode_suburban_fares = sts.mode(suburban_fares)\n",
    "print(f\"The mode fare price for suburban trips is {mode_suburban_fares}.\")"
   ]
  },
  {
   "cell_type": "code",
   "execution_count": 58,
   "id": "ce4dd9d9",
   "metadata": {},
   "outputs": [
    {
     "name": "stdout",
     "output_type": "stream",
     "text": [
      "The mean fare prices for rural trips is $34.62.\n",
      "The median fare price for rural trips is $37.05.\n",
      "The mode fare price for rural trips is ModeResult(mode=array([37.05]), count=array([2])).\n"
     ]
    }
   ],
   "source": [
    "#get fare for rural cities\n",
    "rural_fares = rural_cities_df[\"fare\"]\n",
    "\n",
    "#calcuate the measures of central tendancy for the avg fare for the rural cities\n",
    "mean_rural_fares = np.mean(rural_fares)\n",
    "print(f\"The mean fare prices for rural trips is ${mean_rural_fares:.2f}.\")\n",
    "\n",
    "median_rural_fares = np.median(rural_fares)\n",
    "print(f\"The median fare price for rural trips is ${median_rural_fares:.2f}.\")\n",
    "\n",
    "mode_rural_fares = sts.mode(rural_fares)\n",
    "print(f\"The mode fare price for rural trips is {mode_rural_fares}.\")"
   ]
  },
  {
   "cell_type": "markdown",
   "id": "0aa319b1",
   "metadata": {},
   "source": [
    "## Summary of No. of drivers by City Type"
   ]
  },
  {
   "cell_type": "code",
   "execution_count": 60,
   "id": "6f722254",
   "metadata": {},
   "outputs": [
    {
     "name": "stdout",
     "output_type": "stream",
     "text": [
      "The mean number of drivers in urban cities is: 36.68.\n",
      "The median number of drivers in urban cities is:37.00.\n",
      "The mode number of drivers in urban cities is: ModeResult(mode=array([39], dtype=int64), count=array([86])).\n"
     ]
    }
   ],
   "source": [
    "# Get the driver count data from the urban cities.\n",
    "urban_drivers = urban_cities_df['driver_count']\n",
    "\n",
    "#calcuate the measures of central tendancy for the driver counts for the urban cities\n",
    "mean_urban_drivers = np.mean(urban_drivers)\n",
    "print(f\"The mean number of drivers in urban cities is: {mean_urban_drivers:.2f}.\")\n",
    "\n",
    "median_urban_drivers = np.median(urban_drivers)\n",
    "print(f\"The median number of drivers in urban cities is: {median_urban_drivers:.2f}.\")\n",
    "\n",
    "mode_urban_drivers = sts.mode(urban_drivers)\n",
    "print(f\"The mode number of drivers in urban cities is: {mode_urban_drivers}.\")"
   ]
  },
  {
   "cell_type": "code",
   "execution_count": 61,
   "id": "43a5c74c",
   "metadata": {},
   "outputs": [
    {
     "name": "stdout",
     "output_type": "stream",
     "text": [
      "The mean number of drivers in suburban cities is: 13.71.\n",
      "The median number of drivers in suburban cities is: 16.00.\n",
      "The mode number of drivers in suburban cities is: ModeResult(mode=array([20], dtype=int64), count=array([79])).\n"
     ]
    }
   ],
   "source": [
    "# Get the driver count data from the suburban cities.\n",
    "suburban_drivers = suburban_cities_df['driver_count']\n",
    "\n",
    "#calcuate the measures of central tendancy for the driver counts for the suburban cities\n",
    "mean_suburban_drivers = np.mean(suburban_drivers)\n",
    "print(f\"The mean number of drivers in suburban cities is: {mean_suburban_drivers:.2f}.\")\n",
    "\n",
    "median_suburban_drivers = np.median(suburban_drivers)\n",
    "print(f\"The median number of drivers in suburban cities is: {median_suburban_drivers:.2f}.\")\n",
    "\n",
    "mode_suburban_drivers = sts.mode(suburban_drivers)\n",
    "print(f\"The mode number of drivers in suburban cities is: {mode_suburban_drivers}.\")"
   ]
  },
  {
   "cell_type": "code",
   "execution_count": 62,
   "id": "ff7da756",
   "metadata": {},
   "outputs": [
    {
     "name": "stdout",
     "output_type": "stream",
     "text": [
      "The mean number of drivers in rural cities is: 4.30.\n",
      "The median number of drivers in rural cities is: 4.00.\n",
      "The mode number of drivers in rural cities is: ModeResult(mode=array([1], dtype=int64), count=array([32])).\n"
     ]
    }
   ],
   "source": [
    "# Get the driver count data from the rural cities.\n",
    "rural_drivers = rural_cities_df['driver_count']\n",
    "\n",
    "#calcuate the measures of central tendancy for the driver counts for the rural cities\n",
    "mean_rural_drivers = np.mean(rural_drivers)\n",
    "print(f\"The mean number of drivers in rural cities is: {mean_rural_drivers:.2f}.\")\n",
    "\n",
    "median_rural_drivers = np.median(rural_drivers)\n",
    "print(f\"The median number of drivers in rural cities is: {median_rural_drivers:.2f}.\")\n",
    "\n",
    "mode_rural_drivers = sts.mode(rural_drivers)\n",
    "print(f\"The mode number of drivers in rural cities is: {mode_rural_drivers}.\")"
   ]
  },
  {
   "cell_type": "markdown",
   "id": "4385512b",
   "metadata": {},
   "source": [
    "## Box and Whisker to show outliers"
   ]
  },
  {
   "cell_type": "code",
   "execution_count": 63,
   "id": "181f2845",
   "metadata": {},
   "outputs": [
    {
     "data": {
      "image/png": "[encoded data removed]",
      "text/plain": [
       "<Figure size 432x288 with 1 Axes>"
      ]
     },
     "metadata": {
      "needs_background": "light"
     },
     "output_type": "display_data"
    }
   ],
   "source": [
    "# Create a box-and-whisker plot for the urban cities ride count.\n",
    "x_labels = [\"Urban\"]\n",
    "fig, ax = plt.subplots()\n",
    "ax.boxplot(urban_ride_count, labels=x_labels)\n",
    "# Add the title, y-axis label and grid.\n",
    "ax.set_title('Ride Count Data (2019)')\n",
    "ax.set_ylabel('Number of Rides')\n",
    "ax.set_yticks(np.arange(10, 41, step=2.0))\n",
    "ax.grid()\n",
    "plt.show()"
   ]
  },
  {
   "cell_type": "code",
   "execution_count": 70,
   "id": "cfe296d0",
   "metadata": {},
   "outputs": [
    {
     "data": {
      "image/png": "[encoded data removed]",
      "text/plain": [
       "<Figure size 432x288 with 1 Axes>"
      ]
     },
     "metadata": {
      "needs_background": "light"
     },
     "output_type": "display_data"
    }
   ],
   "source": [
    "# Create a box-and-whisker plot for the suburban cities ride count.\n",
    "x_labels = [\"Suburban\"]\n",
    "fig, ax = plt.subplots()\n",
    "ax.boxplot(suburban_ride_count, labels=x_labels)\n",
    "# Add the title, y-axis label and grid.\n",
    "ax.set_title('Ride Count Data (2019)')\n",
    "ax.set_ylabel('Number of Rides')\n",
    "ax.set_yticks(np.arange(6, 28, step=2.0))\n",
    "ax.grid()\n",
    "plt.show()"
   ]
  },
  {
   "cell_type": "code",
   "execution_count": 68,
   "id": "748bc8ca",
   "metadata": {},
   "outputs": [
    {
     "data": {
      "image/png": "[encoded data removed]",
      "text/plain": [
       "<Figure size 432x288 with 1 Axes>"
      ]
     },
     "metadata": {
      "needs_background": "light"
     },
     "output_type": "display_data"
    }
   ],
   "source": [
    "# Create a box-and-whisker plot for the rural cities ride count.\n",
    "x_labels = [\"Rural\"]\n",
    "fig, ax = plt.subplots()\n",
    "ax.boxplot(rural_ride_count, labels=x_labels)\n",
    "# Add the title, y-axis label and grid.\n",
    "ax.set_title('Ride Count Data (2019)')\n",
    "ax.set_ylabel('Number of Rides')\n",
    "ax.set_yticks(np.arange(0, 15, step=1.0))\n",
    "ax.grid()\n",
    "plt.show()"
   ]
  },
  {
   "cell_type": "code",
   "execution_count": 71,
   "id": "6111ed8e",
   "metadata": {},
   "outputs": [
    {
     "data": {
      "image/png": "[encoded data removed]",
      "text/plain": [
       "<Figure size 720x432 with 1 Axes>"
      ]
     },
     "metadata": {
      "needs_background": "light"
     },
     "output_type": "display_data"
    }
   ],
   "source": [
    "# Add all ride count box-and-whisker plots to the same graph.\n",
    "x_labels = [\"Urban\", \"Suburban\",\"Rural\"]\n",
    "ride_count_data = [urban_ride_count, suburban_ride_count, rural_ride_count]\n",
    "\n",
    "fig, ax = plt.subplots(figsize=(10, 6))\n",
    "ax.set_title('Ride Count Data (2019)',fontsize=20)\n",
    "ax.set_ylabel('Number of Rides',fontsize=14)\n",
    "ax.set_xlabel(\"City Types\",fontsize=14)\n",
    "\n",
    "#using declared combined data from above\n",
    "ax.boxplot(ride_count_data, labels=x_labels)\n",
    "ax.set_yticks(np.arange(0, 45, step=3.0))\n",
    "ax.grid()\n",
    "# Save the figure.\n",
    "plt.savefig(\"analysis/Fig2.png\")\n",
    "plt.show()"
   ]
  },
  {
   "cell_type": "code",
   "execution_count": 72,
   "id": "a3baf80c",
   "metadata": {},
   "outputs": [
    {
     "name": "stdout",
     "output_type": "stream",
     "text": [
      "West Angela has the highest rider count.\n"
     ]
    }
   ],
   "source": [
    "#outlier is identified in Urban at 39\n",
    "#get city that matches 39\n",
    "urban_city_outlier = urban_ride_count[urban_ride_count == 39].index[0]\n",
    "print(f\"{urban_city_outlier} has the highest rider count.\")"
   ]
  },
  {
   "cell_type": "code",
   "execution_count": 73,
   "id": "eecdf606",
   "metadata": {},
   "outputs": [
    {
     "data": {
      "image/png": "[encoded data removed]",
      "text/plain": [
       "<Figure size 432x288 with 1 Axes>"
      ]
     },
     "metadata": {
      "needs_background": "light"
     },
     "output_type": "display_data"
    },
    {
     "name": "stdout",
     "output_type": "stream",
     "text": [
      "Summary Statistics\n"
     ]
    },
    {
     "data": {
      "text/plain": [
       "count    1625.000000\n",
       "mean       24.525772\n",
       "std        11.738649\n",
       "min         4.050000\n",
       "25%        14.550000\n",
       "50%        24.640000\n",
       "75%        34.580000\n",
       "max        44.970000\n",
       "Name: fare, dtype: float64"
      ]
     },
     "execution_count": 73,
     "metadata": {},
     "output_type": "execute_result"
    }
   ],
   "source": [
    "# Create a box-and-whisker plot for the urban fare data.\n",
    "x_labels = [\"Urban\"]\n",
    "fig, ax = plt.subplots()\n",
    "ax.boxplot(urban_fares, labels=x_labels)\n",
    "\n",
    "# Add the title, y-axis label and grid.\n",
    "ax.set_title('Ride Fare Data (2019)')\n",
    "ax.set_ylabel('Fare($USD)')\n",
    "ax.set_yticks(np.arange(0, 51, step=5.0))\n",
    "ax.grid()\n",
    "\n",
    "plt.show()\n",
    "print(\"Summary Statistics\")\n",
    "urban_fares.describe()"
   ]
  },
  {
   "cell_type": "code",
   "execution_count": 75,
   "id": "a3ab0397",
   "metadata": {},
   "outputs": [
    {
     "data": {
      "image/png": "[encoded data removed]",
      "text/plain": [
       "<Figure size 432x288 with 1 Axes>"
      ]
     },
     "metadata": {
      "needs_background": "light"
     },
     "output_type": "display_data"
    },
    {
     "name": "stdout",
     "output_type": "stream",
     "text": [
      "Summary Statistics\n"
     ]
    },
    {
     "data": {
      "text/plain": [
       "count    625.000000\n",
       "mean      30.970128\n",
       "std       10.677508\n",
       "min       12.050000\n",
       "25%       21.970000\n",
       "50%       30.750000\n",
       "75%       39.830000\n",
       "max       49.960000\n",
       "Name: fare, dtype: float64"
      ]
     },
     "execution_count": 75,
     "metadata": {},
     "output_type": "execute_result"
    }
   ],
   "source": [
    "# Create a box-and-whisker plot for the suburban fare data.\n",
    "x_labels = [\"Suburban\"]\n",
    "fig, ax = plt.subplots()\n",
    "ax.boxplot(suburban_fares, labels=x_labels)\n",
    "\n",
    "# Add the title, y-axis label and grid.\n",
    "ax.set_title('Ride Fare Data (2019)')\n",
    "ax.set_ylabel('Fare($USD)')\n",
    "ax.set_yticks(np.arange(0, 51, step=5.0))\n",
    "ax.grid()\n",
    "\n",
    "plt.show()\n",
    "print(\"Summary Statistics\")\n",
    "suburban_fares.describe()"
   ]
  },
  {
   "cell_type": "code",
   "execution_count": 78,
   "id": "3398beb8",
   "metadata": {},
   "outputs": [
    {
     "data": {
      "image/png": "[encoded data removed]",
      "text/plain": [
       "<Figure size 432x288 with 1 Axes>"
      ]
     },
     "metadata": {
      "needs_background": "light"
     },
     "output_type": "display_data"
    },
    {
     "name": "stdout",
     "output_type": "stream",
     "text": [
      "Summary Statistics\n"
     ]
    },
    {
     "data": {
      "text/plain": [
       "count    125.000000\n",
       "mean      34.623440\n",
       "std       14.558046\n",
       "min       10.110000\n",
       "25%       19.900000\n",
       "50%       37.050000\n",
       "75%       47.070000\n",
       "max       58.550000\n",
       "Name: fare, dtype: float64"
      ]
     },
     "execution_count": 78,
     "metadata": {},
     "output_type": "execute_result"
    }
   ],
   "source": [
    "# Create a box-and-whisker plot for the rural fare data.\n",
    "x_labels = [\"Rural\"]\n",
    "fig, ax = plt.subplots()\n",
    "ax.boxplot(rural_fares, labels=x_labels)\n",
    "\n",
    "# Add the title, y-axis label and grid.\n",
    "ax.set_title('Ride Fare Data (2019)')\n",
    "ax.set_ylabel('Fare($USD)')\n",
    "ax.set_yticks(np.arange(0, 61, step=5.0))\n",
    "ax.grid()\n",
    "\n",
    "plt.show()\n",
    "print(\"Summary Statistics\")\n",
    "rural_fares.describe()"
   ]
  },
  {
   "cell_type": "code",
   "execution_count": 84,
   "id": "489ba010",
   "metadata": {},
   "outputs": [
    {
     "data": {
      "image/png": "[encoded data removed]",
      "text/plain": [
       "<Figure size 720x432 with 1 Axes>"
      ]
     },
     "metadata": {
      "needs_background": "light"
     },
     "output_type": "display_data"
    }
   ],
   "source": [
    "# Add all ride fare box-and-whisker plots to the same graph.\n",
    "x_labels = [\"Urban\", \"Suburban\",\"Rural\"]\n",
    "city_fare_data = [urban_fares, suburban_fares, rural_fares]\n",
    "\n",
    "fig, ax = plt.subplots(figsize=(10, 6))\n",
    "ax.set_title('Ride Fare Data (2019)',fontsize=20)\n",
    "ax.set_ylabel('Fare($USD)',fontsize=14)\n",
    "ax.set_xlabel(\"City Types\",fontsize=14)\n",
    "\n",
    "#using declared combined data from above\n",
    "ax.boxplot(city_fare_data, labels=x_labels)\n",
    "ax.set_yticks(np.arange(0, 61, step=5.0))\n",
    "ax.grid()\n",
    "# Save the figure.\n",
    "plt.savefig(\"analysis/Fig3.png\")\n",
    "plt.show()"
   ]
  },
  {
   "cell_type": "code",
   "execution_count": 85,
   "id": "2d38158e",
   "metadata": {},
   "outputs": [
    {
     "data": {
      "image/png": "[encoded data removed]",
      "text/plain": [
       "<Figure size 432x288 with 1 Axes>"
      ]
     },
     "metadata": {
      "needs_background": "light"
     },
     "output_type": "display_data"
    },
    {
     "name": "stdout",
     "output_type": "stream",
     "text": [
      "Summary Statistics\n"
     ]
    },
    {
     "data": {
      "text/plain": [
       "count    1625.000000\n",
       "mean       36.678154\n",
       "std        20.075545\n",
       "min         3.000000\n",
       "25%        22.000000\n",
       "50%        37.000000\n",
       "75%        52.000000\n",
       "max        73.000000\n",
       "Name: driver_count, dtype: float64"
      ]
     },
     "execution_count": 85,
     "metadata": {},
     "output_type": "execute_result"
    }
   ],
   "source": [
    "# Create the box-and-whisker plot for the urban driver count data.\n",
    "x_labels = [\"Urban\"]\n",
    "fig, ax = plt.subplots()\n",
    "ax.boxplot(urban_drivers,labels=x_labels)\n",
    "\n",
    "# Add the title, y-axis label and grid.\n",
    "ax.set_title('Driver Count Data (2019)')\n",
    "ax.set_ylabel('Number of Drivers')\n",
    "ax.set_yticks(np.arange(0, 90, step=5.0))\n",
    "ax.grid()\n",
    "plt.show()\n",
    "print(\"Summary Statistics\")\n",
    "urban_drivers.describe()"
   ]
  },
  {
   "cell_type": "code",
   "execution_count": 89,
   "id": "0726e14d",
   "metadata": {},
   "outputs": [
    {
     "data": {
      "image/png": "[encoded data removed]",
      "text/plain": [
       "<Figure size 432x288 with 1 Axes>"
      ]
     },
     "metadata": {
      "needs_background": "light"
     },
     "output_type": "display_data"
    },
    {
     "name": "stdout",
     "output_type": "stream",
     "text": [
      "Summary Statistics\n"
     ]
    },
    {
     "data": {
      "text/plain": [
       "count    625.000000\n",
       "mean      13.712000\n",
       "std        8.042372\n",
       "min        1.000000\n",
       "25%        5.000000\n",
       "50%       16.000000\n",
       "75%       21.000000\n",
       "max       25.000000\n",
       "Name: driver_count, dtype: float64"
      ]
     },
     "execution_count": 89,
     "metadata": {},
     "output_type": "execute_result"
    }
   ],
   "source": [
    "# Create the box-and-whisker plot for the suburban driver count data.\n",
    "x_labels = [\"Suburban\"]\n",
    "fig, ax = plt.subplots()\n",
    "ax.boxplot(suburban_drivers,labels=x_labels)\n",
    "\n",
    "# Add the title, y-axis label and grid.\n",
    "ax.set_title('Driver Count Data (2019)')\n",
    "ax.set_ylabel('Number of Drivers')\n",
    "ax.set_yticks(np.arange(0, 30, step=2.0))\n",
    "ax.grid()\n",
    "plt.show()\n",
    "print(\"Summary Statistics\")\n",
    "suburban_drivers.describe()"
   ]
  },
  {
   "cell_type": "code",
   "execution_count": 94,
   "id": "cdc0e250",
   "metadata": {},
   "outputs": [
    {
     "data": {
      "image/png": "[encoded data removed]",
      "text/plain": [
       "<Figure size 432x288 with 1 Axes>"
      ]
     },
     "metadata": {
      "needs_background": "light"
     },
     "output_type": "display_data"
    },
    {
     "name": "stdout",
     "output_type": "stream",
     "text": [
      "Summary Statistics\n"
     ]
    },
    {
     "data": {
      "text/plain": [
       "count    125.000000\n",
       "mean       4.296000\n",
       "std        2.691156\n",
       "min        1.000000\n",
       "25%        1.000000\n",
       "50%        4.000000\n",
       "75%        7.000000\n",
       "max        9.000000\n",
       "Name: driver_count, dtype: float64"
      ]
     },
     "execution_count": 94,
     "metadata": {},
     "output_type": "execute_result"
    }
   ],
   "source": [
    "# Create the box-and-whisker plot for the rural driver count data.\n",
    "x_labels = [\"Rural\"]\n",
    "fig, ax = plt.subplots()\n",
    "ax.boxplot(rural_drivers,labels=x_labels)\n",
    "\n",
    "# Add the title, y-axis label and grid.\n",
    "ax.set_title('Driver Count Data (2019)')\n",
    "ax.set_ylabel('Number of Drivers')\n",
    "ax.set_yticks(np.arange(0, 10, step=2.0))\n",
    "ax.grid()\n",
    "plt.show()\n",
    "print(\"Summary Statistics\")\n",
    "rural_drivers.describe()"
   ]
  },
  {
   "cell_type": "code",
   "execution_count": 99,
   "id": "082418d1",
   "metadata": {},
   "outputs": [
    {
     "data": {
      "image/png": "[encoded data removed]",
      "text/plain": [
       "<Figure size 720x432 with 1 Axes>"
      ]
     },
     "metadata": {
      "needs_background": "light"
     },
     "output_type": "display_data"
    }
   ],
   "source": [
    "# Add all driver count box-and-whisker plots to the same graph.\n",
    "x_labels = [\"Urban\", \"Suburban\",\"Rural\"]\n",
    "city_driver_data = [urban_drivers, suburban_drivers, rural_drivers]\n",
    "\n",
    "fig, ax = plt.subplots(figsize=(10, 6))\n",
    "ax.set_title('Driver Count Data (2019)',fontsize=20)\n",
    "ax.set_ylabel('Number of Drivers',fontsize=14)\n",
    "ax.set_xlabel(\"City Types\",fontsize=14)\n",
    "\n",
    "#using declared combined data from above\n",
    "ax.boxplot(city_driver_data, labels=x_labels)\n",
    "ax.set_yticks(np.arange(0, 80, step=5.0))\n",
    "ax.grid()\n",
    "# Save the figure.\n",
    "plt.savefig(\"analysis/Fig4.png\")\n",
    "plt.show()"
   ]
  }
 ],
 "metadata": {
  "kernelspec": {
   "display_name": "Python 3",
   "language": "python",
   "name": "python3"
  },
  "language_info": {
   "codemirror_mode": {
    "name": "ipython",
    "version": 3
   },
   "file_extension": ".py",
   "mimetype": "text/x-python",
   "name": "python",
   "nbconvert_exporter": "python",
   "pygments_lexer": "ipython3",
   "version": "3.7.10"
  }
 },
 "nbformat": 4,
 "nbformat_minor": 5
}
